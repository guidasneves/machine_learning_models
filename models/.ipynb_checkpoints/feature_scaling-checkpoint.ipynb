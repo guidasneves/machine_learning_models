{
 "cells": [
  {
   "cell_type": "markdown",
   "metadata": {},
   "source": [
    "# Feature Scaling Algorithms (Algoritmos de Feature Scaling)\n",
    "**[EN-US]**\n",
    "\n",
    "Makes gradient descent run faster.\n",
    "\n",
    "**[PT-BR]**\n",
    "\n",
    "Faz com que o gradient descent seja executado mais rápido.\n",
    "\n",
    "## Table of Contents\n",
    "* [Libraries](#Libraries)\n",
    "* [Z-score Normalization](#Z-score-Normalization-(Normalização-Z-score))\n",
    "* [Mean Normalization](#Mean-Normalization-(Normalização-da-Média))\n",
    "* [Feature Scaling](#Feature-Scaling)"
   ]
  },
  {
   "cell_type": "markdown",
   "metadata": {},
   "source": [
    "## Libraries"
   ]
  },
  {
   "cell_type": "code",
   "execution_count": 2,
   "metadata": {},
   "outputs": [],
   "source": [
    "import numpy as np"
   ]
  },
  {
   "cell_type": "code",
   "execution_count": 3,
   "metadata": {},
   "outputs": [
    {
     "data": {
      "text/plain": [
       "(3, 4)"
      ]
     },
     "execution_count": 3,
     "metadata": {},
     "output_type": "execute_result"
    }
   ],
   "source": [
    "X_train = np.array([[2104, 5, 1, 45], [1416, 3, 2, 40], [852, 2, 1, 35]])\n",
    "y_train = np.array([460, 232, 178])\n",
    "X_train.shape"
   ]
  },
  {
   "cell_type": "markdown",
   "metadata": {},
   "source": [
    "## Z-score Normalization (Normalização Z-score)\n",
    "$$\\frac{x_i - \\mu_i}{\\sigma_i}$$\n",
    "**[EN-US]**\n",
    "\n",
    "We calculate the standard deviation ($\\sigma_i$) of each feature $i$ and the mean $\\mu_i$. Then we subtract each feature value by its mean and divide by its standard deviation, so the feature values ​​have a mean of 0 and a standard deviation of 1.\n",
    "\n",
    "**[PT-BR]**\n",
    "\n",
    "Calculamos o desvio padrão ($\\sigma_i$) de cada feature $i$ e a média $\\mu_i$. Então subtraimos cada valor da feature pela sua média e dividimos pelo seu desvio padrão, para os valores da feature terem média 0 e desvio padrão 1."
   ]
  },
  {
   "cell_type": "markdown",
   "metadata": {},
   "source": [
    "$\\frac{\\vec{x}_i - \\mu_i}{\\sigma_i}$"
   ]
  },
  {
   "cell_type": "code",
   "execution_count": 1,
   "metadata": {
    "tags": []
   },
   "outputs": [],
   "source": [
    "def zscore_normalize_features(X):\n",
    "    mu = np.mean(X, axis=0)\n",
    "    sigma = np.std(X, axis=0)\n",
    "    X_norm = (X - mu) / sigma\n",
    "\n",
    "    return X_norm, mu, sigma"
   ]
  },
  {
   "cell_type": "markdown",
   "metadata": {},
   "source": [
    "## Mean Normalization (Normalização da Média)\n",
    "$$\\frac{x_i - \\mu_i}{max - min}$$\n",
    "**[EN-US]**\n",
    "\n",
    "We rescale the values to have mean = 0.\n",
    "\n",
    "**[PT-BR]**\n",
    "\n",
    "Redimensionamos os valores para terem média = 0."
   ]
  },
  {
   "cell_type": "code",
   "execution_count": 2,
   "metadata": {
    "tags": []
   },
   "outputs": [],
   "source": [
    "def mean_normalization(X):\n",
    "    mu = np.mean(X, axis=0)\n",
    "    max = np.max(X, axis=0)\n",
    "    min = np.min(X, axis=0)\n",
    "    X_norm = (X - mu) / (max - min)\n",
    "\n",
    "    return X_norm, mu, max, min"
   ]
  },
  {
   "cell_type": "markdown",
   "metadata": {},
   "source": [
    "## Feature Scaling\n",
    "$$\\frac{x_i}{\\text{max}}$$\n",
    "Or (ou):\n",
    "$$\\frac{(x_i - \\text{min})}{(\\text{max} - \\text{min})}$$\n",
    "**[EN-US]**\n",
    "\n",
    "Divide each positive feature by its maximum value or, resize each feature by its minimum and maximum value using $\\frac{(x_i - \\text{min})}{(\\text{max} - \\text{min})}$ . Both ways normalize features to the range of -1 and 1, where the first method works for positive features, and the last method works for any features.\n",
    "\n",
    "**[PT-BR]**\n",
    "\n",
    "Divide cada feature positiva por seu valor máximo ou, redimensiona cada feature por seu valor mínimo e máximo usando $\\frac{(x_i - \\text{min})}{(\\text{max} - \\text{min})}$. Ambas as formas normalizam features para o intervalo de -1 e 1, onde o primeiro método funciona para features positivas, e o último método funciona para quaisquer features."
   ]
  },
  {
   "cell_type": "code",
   "execution_count": 3,
   "metadata": {
    "tags": []
   },
   "outputs": [],
   "source": [
    "def feature_scaling(X):\n",
    "    max = np.max(X, axis=0)\n",
    "    min = np.min(X, axis=0)\n",
    "    X_norm = (X - min) / (max - min)\n",
    "\n",
    "    return X_norm, max, min"
   ]
  },
  {
   "cell_type": "code",
   "execution_count": 18,
   "metadata": {},
   "outputs": [
    {
     "data": {
      "text/plain": [
       "(array([[ 1.26311506,  1.33630621, -0.70710678,  1.22474487],\n",
       "        [-0.08073519, -0.26726124,  1.41421356,  0.        ],\n",
       "        [-1.18237987, -1.06904497, -0.70710678, -1.22474487]]),\n",
       " array([1.45733333e+03, 3.33333333e+00, 1.33333333e+00, 4.00000000e+01]),\n",
       " array([5.11961804e+02, 1.24721913e+00, 4.71404521e-01, 4.08248290e+00]))"
      ]
     },
     "execution_count": 18,
     "metadata": {},
     "output_type": "execute_result"
    }
   ],
   "source": [
    "X_norm, mu, sigma = zscore_normalize_features(X_train)\n",
    "X_norm, mu, sigma"
   ]
  },
  {
   "cell_type": "code",
   "execution_count": 19,
   "metadata": {},
   "outputs": [
    {
     "data": {
      "text/plain": [
       "(array([[ 0.51650692,  0.55555556, -0.33333333,  0.5       ],\n",
       "        [-0.03301384, -0.11111111,  0.66666667,  0.        ],\n",
       "        [-0.48349308, -0.44444444, -0.33333333, -0.5       ]]),\n",
       " array([1.45733333e+03, 3.33333333e+00, 1.33333333e+00, 4.00000000e+01]),\n",
       " array([2104,    5,    2,   45]),\n",
       " array([852,   2,   1,  35]))"
      ]
     },
     "execution_count": 19,
     "metadata": {},
     "output_type": "execute_result"
    }
   ],
   "source": [
    "X_norm, mu, max, min = mean_normalization(X_train)\n",
    "X_norm, mu, max, min"
   ]
  },
  {
   "cell_type": "code",
   "execution_count": 22,
   "metadata": {},
   "outputs": [
    {
     "data": {
      "text/plain": [
       "(array([[1.        , 1.        , 0.        , 1.        ],\n",
       "        [0.45047923, 0.33333333, 1.        , 0.5       ],\n",
       "        [0.        , 0.        , 0.        , 0.        ]]),\n",
       " array([2104,    5,    2,   45]),\n",
       " array([852,   2,   1,  35]))"
      ]
     },
     "execution_count": 22,
     "metadata": {},
     "output_type": "execute_result"
    }
   ],
   "source": [
    "X_norm, max, min = feature_scaling(X_train)\n",
    "X_norm, max, min"
   ]
  },
  {
   "cell_type": "code",
   "execution_count": null,
   "metadata": {},
   "outputs": [],
   "source": []
  }
 ],
 "metadata": {
  "kernelspec": {
   "display_name": "Python 3 (ipykernel)",
   "language": "python",
   "name": "python3"
  },
  "language_info": {
   "codemirror_mode": {
    "name": "ipython",
    "version": 3
   },
   "file_extension": ".py",
   "mimetype": "text/x-python",
   "name": "python",
   "nbconvert_exporter": "python",
   "pygments_lexer": "ipython3",
   "version": "3.11.5"
  }
 },
 "nbformat": 4,
 "nbformat_minor": 4
}
