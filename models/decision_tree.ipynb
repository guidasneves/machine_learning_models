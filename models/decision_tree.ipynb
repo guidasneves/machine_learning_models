{
 "cells": [
  {
   "cell_type": "code",
   "execution_count": 1,
   "id": "9b9caffa-7c6d-481d-8412-934cbc62070a",
   "metadata": {},
   "outputs": [],
   "source": [
    "import numpy as np"
   ]
  },
  {
   "cell_type": "markdown",
   "id": "7a3995ae-c68c-4b21-8b1a-7f651de109f9",
   "metadata": {},
   "source": [
    "# Decision Tree (Árvore de Decisão)"
   ]
  },
  {
   "cell_type": "code",
   "execution_count": 49,
   "id": "e86551db-46b3-4dfb-8ee4-bb02f6781c08",
   "metadata": {},
   "outputs": [],
   "source": [
    "X_train = np.array([[1, 1, 1],\n",
    "[0, 0, 1],\n",
    " [0, 1, 0],\n",
    " [1, 0, 1],\n",
    " [1, 1, 1],\n",
    " [1, 1, 0],\n",
    " [0, 0, 0],\n",
    " [1, 1, 0],\n",
    " [0, 1, 0],\n",
    " [0, 1, 0]])\n",
    "\n",
    "y_train = np.array([1, 1, 0, 0, 1, 1, 0, 1, 0, 0])"
   ]
  },
  {
   "cell_type": "markdown",
   "id": "7c0ddfe5-0770-4ee2-af04-d626d17c3aa1",
   "metadata": {},
   "source": [
    "## Entropy\n",
    "Entropia:\n",
    "$$H(p_1) = -p_1 \\text{log}_2(p_1) - (1- p_1) \\text{log}_2(1- p_1)$$"
   ]
  },
  {
   "cell_type": "code",
   "execution_count": 60,
   "id": "8ee56a0e-c23b-4b8a-8c67-9d53b1ceccff",
   "metadata": {},
   "outputs": [],
   "source": [
    "def entropy(y):\n",
    "    \"\"\"\n",
    "    [EN-US] Computes the entropy\n",
    "    [PT-BR] Computa a entropia\n",
    "    \n",
    "    Args:\n",
    "       y (ndarray): Numpy array indicating whether each example at a node is\n",
    "           edible (`1`) or poisonous (`0`)\n",
    "       \n",
    "    Returns:\n",
    "        entropy (float): Entropy at that node\n",
    "    \"\"\"\n",
    "    \n",
    "    entropy = .0\n",
    "\n",
    "    if len(y) != 0 or type(y) != numpy.float64:\n",
    "        p = len(y[y == 1]) / len(y)\n",
    "    \n",
    "        if p == 0 or p == 1:\n",
    "            entropy = .0\n",
    "        else:\n",
    "            entropy = -p * np.log2(p) - (1 - p) * np.log2(1 - p)\n",
    "\n",
    "    return entropy"
   ]
  },
  {
   "cell_type": "code",
   "execution_count": 51,
   "id": "8d4c6e63-2bb4-41d3-8657-53b3e10dd2d9",
   "metadata": {},
   "outputs": [
    {
     "data": {
      "text/plain": [
       "1.0"
      ]
     },
     "execution_count": 51,
     "metadata": {},
     "output_type": "execute_result"
    }
   ],
   "source": [
    "entropy(np.array([0.5, 1]))"
   ]
  },
  {
   "cell_type": "code",
   "execution_count": 52,
   "id": "0299a9e8-1a4e-4f0e-a0c2-377c34e89117",
   "metadata": {},
   "outputs": [],
   "source": [
    "def split_indices(X, index_feature):\n",
    "    \"\"\"\n",
    "    Splits the data at the given node into\n",
    "    left and right branches\n",
    "    \n",
    "    Args:\n",
    "        X (ndarray):             Data matrix of shape(n_samples, n_features)\n",
    "        index_feature (int):           Index of feature to split on\n",
    "    \n",
    "    Returns:\n",
    "        left_indices (list):     Indices with feature value == 1\n",
    "        right_indices (list):    Indices with feature value == 0\n",
    "    \"\"\"\n",
    "\n",
    "    left_indices = []\n",
    "    right_indices = []\n",
    "    for i, x in enumerate(X):\n",
    "        if x[index_feature] == 1:\n",
    "            left_indices.append(i)\n",
    "        else:\n",
    "            right_indices.append(i)\n",
    "    return left_indices, right_indices"
   ]
  },
  {
   "cell_type": "code",
   "execution_count": 65,
   "id": "29f575a7-03b8-4219-9f00-f493c82cfbc1",
   "metadata": {},
   "outputs": [],
   "source": [
    "def weighted_entropy(X, y, index_feature):\n",
    "    \"\"\"\n",
    "    This function takes the splitted dataset, the indices we chose to split and returns the weighted entropy.\n",
    "    \"\"\"\n",
    "\n",
    "    left_indices, right_indices = split_indices(X, index_feature)\n",
    "    \n",
    "    w_left = len(left_indices) / len(X)\n",
    "    w_right = len(right_indices) / len(X)\n",
    "    p_left = sum(y[left_indices]) / len(left_indices)\n",
    "    p_right = sum(y[right_indices]) / len(right_indices)\n",
    "\n",
    "    weighted_entropy = w_left * entropy(p_left) + w_right * entropy(p_right)\n",
    "    return weighted_entropy"
   ]
  },
  {
   "cell_type": "code",
   "execution_count": 66,
   "id": "0b91020d-1257-4647-9f5f-5088939f1c8b",
   "metadata": {},
   "outputs": [
    {
     "ename": "TypeError",
     "evalue": "object of type 'numpy.float64' has no len()",
     "output_type": "error",
     "traceback": [
      "\u001b[1;31m---------------------------------------------------------------------------\u001b[0m",
      "\u001b[1;31mTypeError\u001b[0m                                 Traceback (most recent call last)",
      "Cell \u001b[1;32mIn[66], line 2\u001b[0m\n\u001b[0;32m      1\u001b[0m left_indices, right_indices \u001b[38;5;241m=\u001b[39m split_indices(X_train, \u001b[38;5;241m0\u001b[39m)\n\u001b[1;32m----> 2\u001b[0m weighted_entropy(X_train, y_train, \u001b[38;5;241m0\u001b[39m)\n",
      "Cell \u001b[1;32mIn[65], line 13\u001b[0m, in \u001b[0;36mweighted_entropy\u001b[1;34m(X, y, index_feature)\u001b[0m\n\u001b[0;32m     10\u001b[0m p_left \u001b[38;5;241m=\u001b[39m \u001b[38;5;28msum\u001b[39m(y[left_indices]) \u001b[38;5;241m/\u001b[39m \u001b[38;5;28mlen\u001b[39m(left_indices)\n\u001b[0;32m     11\u001b[0m p_right \u001b[38;5;241m=\u001b[39m \u001b[38;5;28msum\u001b[39m(y[right_indices]) \u001b[38;5;241m/\u001b[39m \u001b[38;5;28mlen\u001b[39m(right_indices)\n\u001b[1;32m---> 13\u001b[0m weighted_entropy \u001b[38;5;241m=\u001b[39m w_left \u001b[38;5;241m*\u001b[39m entropy(p_left) \u001b[38;5;241m+\u001b[39m w_right \u001b[38;5;241m*\u001b[39m entropy(p_right)\n\u001b[0;32m     14\u001b[0m \u001b[38;5;28;01mreturn\u001b[39;00m weighted_entropy\n",
      "Cell \u001b[1;32mIn[60], line 16\u001b[0m, in \u001b[0;36mentropy\u001b[1;34m(y)\u001b[0m\n\u001b[0;32m      2\u001b[0m \u001b[38;5;250m\u001b[39m\u001b[38;5;124;03m\"\"\"\u001b[39;00m\n\u001b[0;32m      3\u001b[0m \u001b[38;5;124;03m[EN-US] Computes the entropy\u001b[39;00m\n\u001b[0;32m      4\u001b[0m \u001b[38;5;124;03m[PT-BR] Computa a entropia\u001b[39;00m\n\u001b[1;32m   (...)\u001b[0m\n\u001b[0;32m     11\u001b[0m \u001b[38;5;124;03m    entropy (float): Entropy at that node\u001b[39;00m\n\u001b[0;32m     12\u001b[0m \u001b[38;5;124;03m\"\"\"\u001b[39;00m\n\u001b[0;32m     14\u001b[0m entropy \u001b[38;5;241m=\u001b[39m \u001b[38;5;241m.0\u001b[39m\n\u001b[1;32m---> 16\u001b[0m \u001b[38;5;28;01mif\u001b[39;00m \u001b[38;5;28mlen\u001b[39m(y) \u001b[38;5;241m!=\u001b[39m \u001b[38;5;241m0\u001b[39m \u001b[38;5;129;01mor\u001b[39;00m \u001b[38;5;28mtype\u001b[39m(y) \u001b[38;5;241m!=\u001b[39m numpy\u001b[38;5;241m.\u001b[39mfloat64:\n\u001b[0;32m     17\u001b[0m     p \u001b[38;5;241m=\u001b[39m \u001b[38;5;28mlen\u001b[39m(y[y \u001b[38;5;241m==\u001b[39m \u001b[38;5;241m1\u001b[39m]) \u001b[38;5;241m/\u001b[39m \u001b[38;5;28mlen\u001b[39m(y)\n\u001b[0;32m     19\u001b[0m     \u001b[38;5;28;01mif\u001b[39;00m p \u001b[38;5;241m==\u001b[39m \u001b[38;5;241m0\u001b[39m \u001b[38;5;129;01mor\u001b[39;00m p \u001b[38;5;241m==\u001b[39m \u001b[38;5;241m1\u001b[39m:\n",
      "\u001b[1;31mTypeError\u001b[0m: object of type 'numpy.float64' has no len()"
     ]
    }
   ],
   "source": [
    "left_indices, right_indices = split_indices(X_train, 0)\n",
    "weighted_entropy(X_train, y_train, 0)"
   ]
  },
  {
   "cell_type": "markdown",
   "id": "89c5900c-4eed-4fb2-b9f8-01259b13c8ae",
   "metadata": {},
   "source": [
    "## Information Gain\n",
    "$$\\text{Information Gain} = H(p_1^\\text{node})- (w^{\\text{left}}H(p_1^\\text{left}) + w^{\\text{right}}H(p_1^\\text{right}))$$"
   ]
  },
  {
   "cell_type": "code",
   "execution_count": 67,
   "id": "f1c27c74-d04b-42ae-9d32-be6ca36f04e2",
   "metadata": {},
   "outputs": [],
   "source": [
    "def information_gain(X, y, index_feature):\n",
    "    \"\"\"\n",
    "    [EN-US] Compute the information of splitting the node on a given feature\n",
    "    [PT-BR] Computa o information gain da divisão do nó em uma feature    \n",
    "    \"\"\"    \n",
    "\n",
    "    p_node = sum(y) / len(y)\n",
    "    h_node = entropy(p_node)\n",
    "    w_entropy = weighted_entropy(X, y, index_feature)\n",
    "    return h_node - w_entropy"
   ]
  },
  {
   "cell_type": "code",
   "execution_count": 17,
   "id": "2d450ada-673e-43e9-b0c3-10e6203dfc7b",
   "metadata": {},
   "outputs": [
    {
     "data": {
      "text/plain": [
       "0.2780719051126377"
      ]
     },
     "execution_count": 17,
     "metadata": {},
     "output_type": "execute_result"
    }
   ],
   "source": [
    "information_gain(X_train, y_train, left_indices, right_indices, entropy, weighted_entropy)"
   ]
  },
  {
   "cell_type": "code",
   "execution_count": 70,
   "id": "5f807c36-e985-4741-868f-8bd4cb3ee3fc",
   "metadata": {},
   "outputs": [],
   "source": [
    "def best_split(X, y):\n",
    "    \"\"\"\n",
    "    Returns the optimal feature and threshold value\n",
    "    to split the node data \n",
    "    \n",
    "    Args:\n",
    "        X (ndarray):            Data matrix of shape(n_samples, n_features)\n",
    "        y (array like):         list or ndarray with n_samples containing the target variable\n",
    "        node_indices (ndarray): List containing the active indices. I.e, the samples being considered in this step.\n",
    "\n",
    "    Returns:\n",
    "        best_feature (int):     The index of the best feature to split\n",
    "    \"\"\"    \n",
    "    \n",
    "    _, features = X.shape[1]\n",
    "    best_feature = -1\n",
    "\n",
    "    max_info_gain = 0\n",
    "    for feature in range(features):\n",
    "        gain = information_gain(X, y, feature)\n",
    "\n",
    "        if gain > max_infor_gain:\n",
    "            max_info_gain = gain\n",
    "            best_feature = feature\n",
    "\n",
    "    return best_feature"
   ]
  },
  {
   "cell_type": "code",
   "execution_count": 71,
   "id": "2733abdb-d90f-476e-8d61-54ad0ce281cd",
   "metadata": {},
   "outputs": [],
   "source": [
    "def tree_recursive(X, y, branch_name, max_depth, current_depth):\n",
    "    \"\"\"\n",
    "    Build a tree using the recursive algorithm that split the dataset into 2 subgroups at each node.\n",
    "    This function just prints the tree.\n",
    "    \n",
    "    Args:\n",
    "        X (ndarray):            Data matrix of shape(n_samples, n_features)\n",
    "        y (array like):         list or ndarray with n_samples containing the target variable\n",
    "        node_indices (ndarray): List containing the active indices. I.e, the samples being considered in this step.\n",
    "        branch_name (string):   Name of the branch. ['Root', 'Left', 'Right']\n",
    "        max_depth (int):        Max depth of the resulting tree. \n",
    "        current_depth (int):    Current depth. Parameter used during recursive call.\n",
    "   \n",
    "    \"\"\"\n",
    "\n",
    "    if current_depth == max_depth:\n",
    "        formatting = ' ' * current_depth + '-' * current_depth\n",
    "        print(f'{formatting} {branch_name} leaf node with indices {list(range(X.shape[0]))}')\n",
    "        return\n",
    "\n",
    "    best_feature = best_split(X, y)\n",
    "    formatting = '-' * current_depth\n",
    "    print(f'{formatting} Depth {current_depth}, {branch_name}: Split on feature: {best_feature}')\n",
    "\n",
    "    left_indices, right_indices = split_indices(X, best_feature)\n",
    "    tree.append((left_indices, right_indices, best_feature))\n",
    "\n",
    "    tree_recursive(X[left_indices], y, 'Left', max_depth, current_depth+1)\n",
    "    tree_recursive(X[right_indices], y, 'Right', max_depth, current_depth+1)"
   ]
  }
 ],
 "metadata": {
  "kernelspec": {
   "display_name": "Python 3 (ipykernel)",
   "language": "python",
   "name": "python3"
  },
  "language_info": {
   "codemirror_mode": {
    "name": "ipython",
    "version": 3
   },
   "file_extension": ".py",
   "mimetype": "text/x-python",
   "name": "python",
   "nbconvert_exporter": "python",
   "pygments_lexer": "ipython3",
   "version": "3.11.7"
  }
 },
 "nbformat": 4,
 "nbformat_minor": 5
}
