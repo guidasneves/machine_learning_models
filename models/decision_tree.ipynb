{
 "cells": [
  {
   "cell_type": "code",
   "execution_count": 1,
   "id": "9b9caffa-7c6d-481d-8412-934cbc62070a",
   "metadata": {},
   "outputs": [],
   "source": [
    "import numpy as np"
   ]
  },
  {
   "cell_type": "markdown",
   "id": "7a3995ae-c68c-4b21-8b1a-7f651de109f9",
   "metadata": {},
   "source": [
    "# Decision Tree (Árvore de Decisão)"
   ]
  },
  {
   "cell_type": "code",
   "execution_count": 2,
   "id": "e86551db-46b3-4dfb-8ee4-bb02f6781c08",
   "metadata": {},
   "outputs": [],
   "source": [
    "X_train = np.array([[1, 1, 1],\n",
    "[0, 0, 1],\n",
    " [0, 1, 0],\n",
    " [1, 0, 1],\n",
    " [1, 1, 1],\n",
    " [1, 1, 0],\n",
    " [0, 0, 0],\n",
    " [1, 1, 0],\n",
    " [0, 1, 0],\n",
    " [0, 1, 0]])\n",
    "\n",
    "y_train = np.array([1, 1, 0, 0, 1, 1, 0, 1, 0, 0])"
   ]
  },
  {
   "cell_type": "code",
   "execution_count": 3,
   "id": "8ee56a0e-c23b-4b8a-8c67-9d53b1ceccff",
   "metadata": {},
   "outputs": [],
   "source": [
    "def entropy(p):\n",
    "    if p == 0 or p == 1:\n",
    "        return 0\n",
    "    else:\n",
    "        return -p * np.log2(p) - (1 - p) * np.log2(1 - p)"
   ]
  },
  {
   "cell_type": "code",
   "execution_count": 4,
   "id": "8d4c6e63-2bb4-41d3-8657-53b3e10dd2d9",
   "metadata": {},
   "outputs": [
    {
     "data": {
      "text/plain": [
       "1.0"
      ]
     },
     "execution_count": 4,
     "metadata": {},
     "output_type": "execute_result"
    }
   ],
   "source": [
    "entropy(0.5)"
   ]
  },
  {
   "cell_type": "code",
   "execution_count": 13,
   "id": "0299a9e8-1a4e-4f0e-a0c2-377c34e89117",
   "metadata": {},
   "outputs": [],
   "source": [
    "def split_indices(X, index_feature):\n",
    "    \"\"\"\n",
    "    Given a dataset and a index feature, return two lists for the two split nodes, the left node has the animals that have \n",
    "    that feature = 1 and the right node those that have the feature = 0\n",
    "    \"\"\"\n",
    "\n",
    "    left_indices = []\n",
    "    right_indices = []\n",
    "    for i, x in enumerate(X):\n",
    "        if x[index_feature] == 1:\n",
    "            left_indices.append(i)\n",
    "        else:\n",
    "            right_indices.append(i)\n",
    "    return left_indices, right_indices"
   ]
  },
  {
   "cell_type": "code",
   "execution_count": 14,
   "id": "29f575a7-03b8-4219-9f00-f493c82cfbc1",
   "metadata": {},
   "outputs": [],
   "source": [
    "def weighted_entropy(X, y, left_indices, right_indices, entropy):\n",
    "    \"\"\"\n",
    "    This function takes the splitted dataset, the indices we chose to split and returns the weighted entropy.\n",
    "    \"\"\"\n",
    "\n",
    "    w_left = len(left_indices) / len(X)\n",
    "    w_right = len(right_indices) / len(X)\n",
    "    p_left = sum(y[left_indices]) / len(left_indices)\n",
    "    p_right = sum(y[right_indices]) / len(right_indices)\n",
    "\n",
    "    weighted_entropy = w_left * entropy(p_left) + w_right * entropy(p_right)\n",
    "    return weighted_entropy"
   ]
  },
  {
   "cell_type": "code",
   "execution_count": 15,
   "id": "0b91020d-1257-4647-9f5f-5088939f1c8b",
   "metadata": {},
   "outputs": [
    {
     "data": {
      "text/plain": [
       "0.7219280948873623"
      ]
     },
     "execution_count": 15,
     "metadata": {},
     "output_type": "execute_result"
    }
   ],
   "source": [
    "left_indices, right_indices = split_indices(X_train, 0)\n",
    "weighted_entropy(X_train, y_train, left_indices, right_indices, entropy)"
   ]
  },
  {
   "cell_type": "code",
   "execution_count": 16,
   "id": "f1c27c74-d04b-42ae-9d32-be6ca36f04e2",
   "metadata": {},
   "outputs": [],
   "source": [
    "def information_gain(X, y, left_indices, right_indices, entropy, weighted_entropy):\n",
    "    \"\"\"\n",
    "    Here, X has the elements in the node and y is theirs respectives classes\n",
    "    \"\"\"\n",
    "\n",
    "    p_node = sum(y) / len(y)\n",
    "    h_node = entropy(p_node)\n",
    "    w_entropy = weighted_entropy(X, y, left_indices, right_indices, entropy)\n",
    "    return h_node - w_entropy"
   ]
  },
  {
   "cell_type": "code",
   "execution_count": 17,
   "id": "2d450ada-673e-43e9-b0c3-10e6203dfc7b",
   "metadata": {},
   "outputs": [
    {
     "data": {
      "text/plain": [
       "0.2780719051126377"
      ]
     },
     "execution_count": 17,
     "metadata": {},
     "output_type": "execute_result"
    }
   ],
   "source": [
    "information_gain(X_train, y_train, left_indices, right_indices, entropy, weighted_entropy)"
   ]
  },
  {
   "cell_type": "code",
   "execution_count": null,
   "id": "5f807c36-e985-4741-868f-8bd4cb3ee3fc",
   "metadata": {},
   "outputs": [],
   "source": []
  }
 ],
 "metadata": {
  "kernelspec": {
   "display_name": "Python 3 (ipykernel)",
   "language": "python",
   "name": "python3"
  },
  "language_info": {
   "codemirror_mode": {
    "name": "ipython",
    "version": 3
   },
   "file_extension": ".py",
   "mimetype": "text/x-python",
   "name": "python",
   "nbconvert_exporter": "python",
   "pygments_lexer": "ipython3",
   "version": "3.11.7"
  }
 },
 "nbformat": 4,
 "nbformat_minor": 5
}
