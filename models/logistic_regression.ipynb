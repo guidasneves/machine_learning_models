{
 "cells": [
  {
   "cell_type": "markdown",
   "id": "96fe8f15-5b05-490e-8781-c4378f78a933",
   "metadata": {},
   "source": [
    "# Logistic Regression (Regressão Logística)\n",
    "\n",
    "**[EN-US]**\n",
    "\n",
    "Logistic Regression is a model that we use for supervised learning tasks and for classification tasks, that is, when the target label $y$ that we are trying to predict can only have 2 values, 0 or 1 (binary classification), for example.\n",
    "\n",
    "Let's say we are trying to classify whether an image has a cat or not, using a logistic regression model for this task, it will return 1 for when there is a cat in the image and 0 when there is no cat in the image.\n",
    "\n",
    "We want $\\hat y$ to be the probability that $y$ is equal to 1, given the input features $\\vec x$, $\\hat{y}\\ =\\ P(y - 1 | \\vec x)$.\n",
    "\n",
    "\n",
    "**[PT-BR]**\n",
    "\n",
    "Regressão Logística é um modelo que utilizamos para tarefas de aprendizado supervisionado e para tarefas de classificação, ou seja, quando o target label $y$ que estamos tentando prever só pode ter 2 valores, 0 ou 1 (classificação binária), por exemplo.\n",
    "\n",
    "Digamos que estamos tentando classificar se em uma imagem tem um gato ou não, utilizando um modelo de regressão logística para essa tarefa, ele irá retornar 1 para quando tiver um gato na imagem e 0 quando não tiver um gato na imagem.\n",
    "\n",
    "Queremos que $\\hat y$ seja a probabilidade de que $y$ seja igual a 1, dado as input features $\\vec x$, $\\hat{y}\\ =\\ P(y - 1 | \\vec x)$.\n",
    "\n",
    "## Table of Contents\n",
    "* [Libraries](#Libraries-(Bibliotecas))\n",
    "* [Logistic Regression](#Logistic-Regression-Model-(Modelo-Regressão-Logística))\n",
    "    * [Cost Function](#Cost-Function-for-Logistic-Regression-(Cost-Function-para-Regressão-Logística))\n",
    "    * [Gradient Descent](#Gradient-Descent-for-Logistic-Regression-(Gradient-Descent-para-Regressão-Logística))\n",
    "    * [Evaluate Metric](#Classification-Error)\n",
    "* [Regularized Logistic Regression](#Regularized-Logistic-Regression-(Regressão-Logística-Regularizada))\n",
    "    * [Cost Function](#Cost-Function-for-Regularized-Logistic-Regression-(Cost-Function-para-Regressão-Logística-Regularizada))\n",
    "    * [Gradient Descent](#Gradient-Descent-for-Regularized-Logistic-Regression-(Gradient-Descent-para-Regressão-Logística-Regularizada))"
   ]
  },
  {
   "cell_type": "markdown",
   "id": "b1b825e6-997b-41f2-9a83-cdb595d18973",
   "metadata": {},
   "source": [
    "## Libraries (Bibliotecas)"
   ]
  },
  {
   "cell_type": "code",
   "execution_count": 31,
   "id": "7023bcb7-c69a-426f-96c9-07e678a5d583",
   "metadata": {},
   "outputs": [],
   "source": [
    "import numpy as np\n",
    "import matplotlib.pyplot as plt\n",
    "import math, copy"
   ]
  },
  {
   "cell_type": "markdown",
   "id": "a48a5105-72a2-470c-a363-52a739265053",
   "metadata": {},
   "source": [
    "## Logistic Regression Model (Modelo Regressão Logística)\n",
    "Model:\n",
    "$$z = f_{w, b}(\\mathbf{X}) = \\mathbf{X} \\cdot \\mathbf{w} + b$$\n",
    "$$g(z) = \\frac{1}{1 + e^{-z}}$$"
   ]
  },
  {
   "cell_type": "code",
   "execution_count": 1,
   "id": "45450b25-28e0-410a-bf46-a9fa06d22de7",
   "metadata": {
    "tags": []
   },
   "outputs": [],
   "source": [
    "def sigmoid_function(z):\n",
    "    g = 1 / (1 + np.exp(-z))\n",
    "    return g"
   ]
  },
  {
   "cell_type": "code",
   "execution_count": 7,
   "id": "7fac5b47-abf0-40cf-aa90-13709ed542a3",
   "metadata": {},
   "outputs": [
    {
     "name": "stdout",
     "output_type": "stream",
     "text": [
      "Input (z), Output (sigmoid_function(z))\n",
      "[[-1.000e+01  4.540e-05]\n",
      " [-9.000e+00  1.234e-04]\n",
      " [-8.000e+00  3.354e-04]\n",
      " [-7.000e+00  9.111e-04]\n",
      " [-6.000e+00  2.473e-03]\n",
      " [-5.000e+00  6.693e-03]\n",
      " [-4.000e+00  1.799e-02]\n",
      " [-3.000e+00  4.743e-02]\n",
      " [-2.000e+00  1.192e-01]\n",
      " [-1.000e+00  2.689e-01]\n",
      " [ 0.000e+00  5.000e-01]\n",
      " [ 1.000e+00  7.311e-01]\n",
      " [ 2.000e+00  8.808e-01]\n",
      " [ 3.000e+00  9.526e-01]\n",
      " [ 4.000e+00  9.820e-01]\n",
      " [ 5.000e+00  9.933e-01]\n",
      " [ 6.000e+00  9.975e-01]\n",
      " [ 7.000e+00  9.991e-01]\n",
      " [ 8.000e+00  9.997e-01]\n",
      " [ 9.000e+00  9.999e-01]\n",
      " [ 1.000e+01  1.000e+00]]\n"
     ]
    }
   ],
   "source": [
    "z_tmp = np.arange(-10, 11)\n",
    "y = sigmoid_function(z_tmp)\n",
    "\n",
    "np.set_printoptions(precision=3)\n",
    "print(f'Input (z), Output (sigmoid_function(z))\\n{np.c_[z_tmp, y]}')"
   ]
  },
  {
   "cell_type": "code",
   "execution_count": 8,
   "id": "330ebd2c-5d1d-4f7e-b96f-ce023e6239d7",
   "metadata": {},
   "outputs": [
    {
     "data": {
      "image/png": "[encoded data removed]",
      "text/plain": [
       "<Figure size 500x300 with 1 Axes>"
      ]
     },
     "metadata": {},
     "output_type": "display_data"
    }
   ],
   "source": [
    "fig, ax = plt.subplots(1, 1, figsize=(5, 3))\n",
    "ax.plot(z_tmp, y, c='b')\n",
    "ax.set_title('Sigmoid Function')\n",
    "ax.set_ylabel('sigmoid_function(z)')\n",
    "ax.set_xlabel('z')\n",
    "plt.show()"
   ]
  },
  {
   "cell_type": "markdown",
   "id": "51b3fca3-a688-45b9-b930-92d2f629a000",
   "metadata": {},
   "source": [
    "### Cost Function for Logistic Regression (Cost Function para Regressão Logística)\n",
    "**[EN-US]**\n",
    "\n",
    "We using Logistic Loss Function\n",
    "- $loss(f_{\\mathbf{w},b}(\\mathbf{x}^{(i)}), y^{(i)})$ is the cost for a single data point\n",
    "\n",
    "**[PT-BR]**\n",
    "\n",
    "Usamos a Logistic Loss Function\n",
    "- $loss(f_{\\mathbf{w},b}(\\mathbf{x}^{(i)}), y^{(i)})$ é o cost para um único exemplo\n",
    "$$J(\\mathbf{w}, b) = -\\frac{1}{m} \\sum\\limits_{i=0}^{m-1} [(-y^{(i)} \\log\\left(f_{\\mathbf{w},b}\\left( \\mathbf{x}^{(i)} \\right) \\right) - \\left( 1 - y^{(i)}\\right) \\log \\left( 1 - f_{\\mathbf{w},b}\\left( \\mathbf{x}^{(i)} \\right) \\right))]$$\n",
    "\n",
    "\n",
    "$$\\begin{align*}\n",
    "& J(\\mathbf{w},b) = \\frac{1}{m} \\sum_{i=0}^{m-1} \\left[ loss(f_{\\mathbf{w},b}(\\mathbf{x}^{(i)}), y^{(i)}) \\right] \\\\\n",
    "& loss(f_{\\mathbf{w},b}(\\mathbf{x}^{(i)}), y^{(i)}) = -y^{(i)} \\log\\left(f_{\\mathbf{w},b}\\left( \\mathbf{x}^{(i)} \\right) \\right) - \\left( 1 - y^{(i)}\\right) \\log \\left( 1 - f_{\\mathbf{w},b}\\left( \\mathbf{x}^{(i)} \\right) \\right) \\\\ \\\\\n",
    "& f_{\\mathbf{w},b}(\\mathbf{x^{(i)}}) = g(z^{(i)}) \\\\ \\\\\n",
    "& z^{(i)} = \\mathbf{w} \\cdot \\mathbf{x}^{(i)}+ b \\\\ \\\\\n",
    "& g(z^{(i)}) = \\frac{1}{1+e^{-z^{(i)}}} \n",
    "\\end{align*}$$"
   ]
  },
  {
   "cell_type": "code",
   "execution_count": 12,
   "id": "f5e33f21-5db4-4231-8354-479a4b73e1dd",
   "metadata": {},
   "outputs": [],
   "source": [
    "X_train = np.array([[0.5, 1.5], [1,1], [1.5, 0.5], [3, 0.5], [2, 2], [1, 2.5]])\n",
    "y_train = np.array([0, 0, 0, 1, 1, 1])"
   ]
  },
  {
   "cell_type": "code",
   "execution_count": 2,
   "id": "a0067f29-a1d2-4557-b6f5-7ef3c78d5d91",
   "metadata": {
    "tags": []
   },
   "outputs": [],
   "source": [
    "def compute_cost_logistic(X, y, w, b, sigmoid_function):\n",
    "    m, _ = X.shape\n",
    "    loss = .0\n",
    "\n",
    "    for i in range(m):\n",
    "        z_i = np.dot(w, X[i]) + b\n",
    "        f_wb_i = sigmoid_function(z_i)\n",
    "        loss += -y[i] * np.log(f_wb_i) - (1 - y[i]) * np.log(1 - f_wb_i)\n",
    "    cost = loss / m\n",
    "    return cost"
   ]
  },
  {
   "cell_type": "code",
   "execution_count": 64,
   "id": "bf709b29-f80b-46aa-a835-f11e50bcda0e",
   "metadata": {},
   "outputs": [
    {
     "name": "stdout",
     "output_type": "stream",
     "text": [
      "0.6931471805599453\n"
     ]
    }
   ],
   "source": [
    "w = np.zeros((2,))\n",
    "b = 0\n",
    "\n",
    "print(compute_cost_logistic(X_train, y_train, w, b, sigmoid_function))"
   ]
  },
  {
   "cell_type": "markdown",
   "id": "19cc86b6-934e-4cde-a69e-62e7ef93ddd4",
   "metadata": {},
   "source": [
    "### Gradient Descent for Logistic Regression (Gradient Descent para Regressão Logística)\n",
    "\n",
    "$$\\begin{align*}\n",
    "&\\text{repeat until convergence (repita até convergir): for } j := 0, ..., n - 1\\; \\lbrace \\\\\n",
    "&  \\; \\; \\;w_j := w_j -  \\alpha \\frac{\\partial J(\\mathbf{w},b)}{\\partial w_j} \\; \\\\ \n",
    "&  \\; \\; \\;  \\; \\;b := b -  \\alpha \\frac{\\partial J(\\mathbf{w},b)}{\\partial b} \\\\\n",
    "&\\rbrace\n",
    "\\end{align*}$$\n",
    "\n",
    "$$\\begin{align*}\n",
    "\\frac{\\partial J(\\mathbf{w},b)}{\\partial w_j}  &= \\frac{1}{m} \\sum\\limits_{i = 0}^{m-1} (f_{\\mathbf{w},b}(\\mathbf{x}^{(i)}) - y^{(i)})x_{j}^{(i)} \\\\\n",
    "\\frac{\\partial J(\\mathbf{w},b)}{\\partial b}  &= \\frac{1}{m} \\sum\\limits_{i = 0}^{m-1} (f_{\\mathbf{w},b}(\\mathbf{x}^{(i)}) - y^{(i)})\n",
    "\\end{align*}$$"
   ]
  },
  {
   "cell_type": "code",
   "execution_count": 3,
   "id": "2fbd6714-6baa-4983-b042-a199e1b6939f",
   "metadata": {
    "tags": []
   },
   "outputs": [],
   "source": [
    "def compute_gradient_logistic(X, y, w, b, sigmoid_function):\n",
    "    m, n = X.shape\n",
    "    dj_dw = np.zeros((n,))\n",
    "    dj_db = 0.\n",
    "\n",
    "    for i in range(m):\n",
    "        f_wb_i = sigmoid_function(np.dot(w, X[i]) + b)\n",
    "        err_i = f_wb_i - y[i]\n",
    "        for j in range(n):\n",
    "            dj_dw[j] += err_i * X[i, j]\n",
    "        dj_db += err_i\n",
    "    dj_dw /= m\n",
    "    dj_db /= m\n",
    "\n",
    "    return dj_dw, dj_db"
   ]
  },
  {
   "cell_type": "code",
   "execution_count": 4,
   "id": "9bf919ed-bcd0-4f47-a9e1-80fb952a93dc",
   "metadata": {
    "tags": []
   },
   "outputs": [],
   "source": [
    "def logistic_gradient_descent(X, y, w_in, b_in, alpha, num_iters, compute_gradient_logistic, sigmoid_function, compute_cost_logistic):\n",
    "    J_history = []\n",
    "    w = copy.deepcopy(w_in)\n",
    "    b = b_in\n",
    "\n",
    "    for i in range(num_iters):\n",
    "        dj_dw, dj_db = compute_gradient_logistic(X, y, w, b, sigmoid_function)\n",
    "\n",
    "        w = w- alpha * dj_dw\n",
    "        b -= alpha * dj_db\n",
    "\n",
    "        if i < 100000:\n",
    "            J_history.append(compute_cost_logistic(X, y, w, b, sigmoid_function))\n",
    "\n",
    "        if i % math.ceil(num_iters / 10) == 0:\n",
    "            print(f'Iteration {i:4d}: Cost {J_history[-1]:8.2f}')\n",
    "\n",
    "    return w, b, J_history"
   ]
  },
  {
   "cell_type": "code",
   "execution_count": 38,
   "id": "9e3b1d77-c751-444c-9e50-31ad841639a2",
   "metadata": {},
   "outputs": [
    {
     "name": "stdout",
     "output_type": "stream",
     "text": [
      "Iteration    0: Cost     0.68\n",
      "Iteration 1000: Cost     0.16\n",
      "Iteration 2000: Cost     0.08\n",
      "Iteration 3000: Cost     0.06\n",
      "Iteration 4000: Cost     0.04\n",
      "Iteration 5000: Cost     0.03\n",
      "Iteration 6000: Cost     0.03\n",
      "Iteration 7000: Cost     0.02\n",
      "Iteration 8000: Cost     0.02\n",
      "Iteration 9000: Cost     0.02\n",
      "\n",
      "updated parameters: w:[5.281 5.078], b:-14.222409982019837\n"
     ]
    }
   ],
   "source": [
    "w_tmp  = np.zeros_like(X_train[0])\n",
    "b_tmp  = 0.\n",
    "alph = 0.1\n",
    "iters = 10000\n",
    "\n",
    "w_out, b_out, _ = logistic_gradient_descent(X_train, y_train, w_tmp, b_tmp, alph, iters,\n",
    "                                  compute_gradient_logistic, sigmoid_function, compute_cost_logistic) \n",
    "print(f\"\\nupdated parameters: w:{w_out}, b:{b_out}\")"
   ]
  },
  {
   "cell_type": "code",
   "execution_count": 5,
   "id": "ffc13c7f-7270-4cc8-ab66-9d6cb755fb52",
   "metadata": {
    "tags": []
   },
   "outputs": [],
   "source": [
    "def predict(X, w, b):\n",
    "    m, n = X.shape\n",
    "    yhat = np.zeros(m)\n",
    "\n",
    "    for i in range(m):\n",
    "        z_wb = 0\n",
    "        for j in range(n): #[EN-US] Or just z_wb += np.dot(X[i], w), outside the loop. [PT-BR] Ou apenas z_wb += np.dot(X[i], w), fora do loop. \n",
    "            z_wb += X[i, j] * w[j]\n",
    "\n",
    "        z_wb += b\n",
    "        f_wb = 1 / (1 + np.exp(-z_wb))\n",
    "\n",
    "        if f_wb >= 0.5:\n",
    "            yhat[i] = 1\n",
    "        else:\n",
    "            yhat[i] = 0\n",
    "    return yhat"
   ]
  },
  {
   "cell_type": "markdown",
   "id": "a7cae203-f921-485b-b4b8-fa57ffe811bb",
   "metadata": {},
   "source": [
    "### Classification Error\n",
    "Accuracy (Acurácia):\n",
    "$$ J(w, b) =\\frac{1}{m}\\sum_{i=0}^{m-1} \n",
    "\\begin{cases}\n",
    "    1, & \\text{if $\\hat{y}^{(i)} \\neq y^{(i)}$}\\\\\n",
    "    0, & \\text{otherwise}\n",
    "\\end{cases}\n",
    "$$"
   ]
  },
  {
   "cell_type": "code",
   "execution_count": 6,
   "id": "47853798-0673-4e8c-a216-c9d115723f87",
   "metadata": {
    "tags": []
   },
   "outputs": [],
   "source": [
    "def accuracy(y, yhat):\n",
    "    m = len(y)\n",
    "    err = .0\n",
    "    for i in range(m):\n",
    "        if yhat[i] != y[i]:\n",
    "            erro += 1\n",
    "    err /= m\n",
    "    return err"
   ]
  },
  {
   "cell_type": "markdown",
   "id": "b45ae348-758e-4db3-9d56-f5ec00b53d51",
   "metadata": {},
   "source": [
    "## Regularized Logistic Regression (Regressão Logística Regularizada)\n",
    "### Cost Function for Regularized Logistic Regression (Cost Function para Regressão Logística Regularizada)\n",
    "\n",
    "$$J(\\mathbf{w},b) = \\frac{1}{m}  \\sum_{i=0}^{m-1} \\left[ -y^{(i)} \\log\\left(f_{\\mathbf{w},b}\\left( \\mathbf{x}^{(i)} \\right) \\right) - \\left( 1 - y^{(i)}\\right) \\log \\left( 1 - f_{\\mathbf{w},b}\\left( \\mathbf{x}^{(i)} \\right) \\right) \\right] + \\frac{\\lambda}{2m}  \\sum_{j=0}^{n-1} w_j^2$$"
   ]
  },
  {
   "cell_type": "code",
   "execution_count": 7,
   "id": "1a3b02da-e260-4558-960c-c4fceddc81d2",
   "metadata": {
    "tags": []
   },
   "outputs": [],
   "source": [
    "def cost_logistic_reg(X, y, w, b, sigmoid_function, lambda_=1):\n",
    "    m, n = X.shape\n",
    "    cost = .0\n",
    "\n",
    "    for i in range(m):\n",
    "        f_wb_i = sigmoid_function(np.dot(w, X[i]) + b)\n",
    "        cost += -y[i] * np.log(f_wb_i) - (1 - y[i]) * np.log(1 - f_wb_i)\n",
    "    cost /= m\n",
    "\n",
    "    reg = .0\n",
    "    for j in range(n):\n",
    "        reg += w[j] ** 2\n",
    "    reg *= (lambda_ / (2 * m))\n",
    "\n",
    "    total_cost = cost + reg\n",
    "    return total_cost"
   ]
  },
  {
   "cell_type": "code",
   "execution_count": 62,
   "id": "e3b85e34-4712-43d1-acdd-abe13a57b117",
   "metadata": {},
   "outputs": [
    {
     "name": "stdout",
     "output_type": "stream",
     "text": [
      "Regularized cost: 0.6850849138741673\n"
     ]
    }
   ],
   "source": [
    "np.random.seed(1)\n",
    "X = np.random.rand(5,6)\n",
    "y = np.array([0,1,0,1,0])\n",
    "w = np.random.rand(X.shape[1]).reshape(-1,)-0.5\n",
    "b = 0.5\n",
    "lambda_ = 0.7\n",
    "cost = cost_logistic_reg(X, y, w, b, sigmoid_function, lambda_)\n",
    "\n",
    "print(\"Regularized cost:\", cost)"
   ]
  },
  {
   "cell_type": "markdown",
   "id": "f7baf5d7-2683-459b-8828-27ae1efeb165",
   "metadata": {},
   "source": [
    "## Gradient Descent for Regularized Logistic Regression (Gradient Descent para Regressão Logística Regularizada)\n",
    "\n",
    "$$\\begin{align*}\n",
    "&\\text{repeat until convergence (repita até convergir): for } j := 0, ..., n - 1 \\; \\lbrace \\\\\n",
    "&  \\; \\; \\;w_j = w_j -  \\alpha \\frac{\\partial J(\\mathbf{w},b)}{\\partial w_j} \\; \\\\ \n",
    "&  \\; \\; \\;  \\; \\;b = b -  \\alpha \\frac{\\partial J(\\mathbf{w},b)}{\\partial b} \\\\\n",
    "&\\rbrace\n",
    "\\end{align*}$$\n",
    "\n",
    "$$\\begin{align*}\n",
    "\\frac{\\partial J(\\mathbf{w},b)}{\\partial w_j}  &= \\frac{1}{m} \\sum\\limits_{i = 0}^{m-1} (f_{\\mathbf{w},b}(\\mathbf{x}^{(i)}) - y^{(i)})x_{j}^{(i)}  +  \\frac{\\lambda}{m} w_j \\\\\n",
    "\\frac{\\partial J(\\mathbf{w},b)}{\\partial b}  &= \\frac{1}{m} \\sum\\limits_{i = 0}^{m-1} (f_{\\mathbf{w},b}(\\mathbf{x}^{(i)}) - y^{(i)}) \n",
    "\\end{align*}$$"
   ]
  },
  {
   "cell_type": "code",
   "execution_count": 8,
   "id": "58bdc677-2b3f-4cbb-9144-438f562d4b4b",
   "metadata": {
    "tags": []
   },
   "outputs": [],
   "source": [
    "def gradient_logistic_reg(X, y, w, b, sigmoid_function, lambda_=1):\n",
    "    m, n = X.shape\n",
    "    dj_dw = np.zeros((n,))\n",
    "    dj_db = .0\n",
    "\n",
    "    for i in range(m):\n",
    "        f_wb_i = sigmoid_function(np.dot(w, X[i]) + b)\n",
    "        err_i = f_wb_i - y[i]\n",
    "        for j in range(n):\n",
    "            dj_dw[j] += err_i * X[i, j]\n",
    "        dj_db += err_i\n",
    "    dj_dw /= m\n",
    "    dj_db /= m\n",
    "\n",
    "    reg = .0\n",
    "    for j in range(n):\n",
    "        dj_dw[j] += (lambda_ / m) * w[j]\n",
    "\n",
    "    return dj_dw, dj_db"
   ]
  },
  {
   "cell_type": "code",
   "execution_count": 57,
   "id": "65ec06aa-8bdf-4bc3-9666-ac3969019a63",
   "metadata": {},
   "outputs": [
    {
     "name": "stdout",
     "output_type": "stream",
     "text": [
      "dj_db: 0.341798994972791\n",
      "Regularized dj_dw:\n",
      " [0.17380012933994293, 0.32007507881566943, 0.10776313396851499]\n"
     ]
    }
   ],
   "source": [
    "np.random.seed(1)\n",
    "X = np.random.rand(5,3)\n",
    "y = np.array([0,1,0,1,0])\n",
    "w = np.random.rand(X_tmp.shape[1])\n",
    "b = 0.5\n",
    "lambda_ = 0.7\n",
    "dj_dw, dj_db =  gradient_logistic_reg(X, y, w, b, sigmoid_function, lambda_)\n",
    "\n",
    "print(f\"dj_db: {dj_db}\", )\n",
    "print(f\"Regularized dj_dw:\\n {dj_dw.tolist()}\", )"
   ]
  },
  {
   "cell_type": "code",
   "execution_count": null,
   "id": "b502eec3-ec72-4af9-b11e-0125aa8b7e5c",
   "metadata": {},
   "outputs": [],
   "source": []
  }
 ],
 "metadata": {
  "kernelspec": {
   "display_name": "Python 3 (ipykernel)",
   "language": "python",
   "name": "python3"
  },
  "language_info": {
   "codemirror_mode": {
    "name": "ipython",
    "version": 3
   },
   "file_extension": ".py",
   "mimetype": "text/x-python",
   "name": "python",
   "nbconvert_exporter": "python",
   "pygments_lexer": "ipython3",
   "version": "3.11.5"
  }
 },
 "nbformat": 4,
 "nbformat_minor": 5
}
