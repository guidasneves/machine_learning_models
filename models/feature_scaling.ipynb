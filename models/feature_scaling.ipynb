{
 "cells": [
  {
   "cell_type": "code",
   "execution_count": 2,
   "metadata": {},
   "outputs": [],
   "source": [
    "import numpy as np"
   ]
  },
  {
   "cell_type": "code",
   "execution_count": 3,
   "metadata": {},
   "outputs": [
    {
     "data": {
      "text/plain": [
       "(3, 4)"
      ]
     },
     "execution_count": 3,
     "metadata": {},
     "output_type": "execute_result"
    }
   ],
   "source": [
    "X_train = np.array([[2104, 5, 1, 45], [1416, 3, 2, 40], [852, 2, 1, 35]])\n",
    "y_train = np.array([460, 232, 178])\n",
    "X_train.shape"
   ]
  },
  {
   "cell_type": "markdown",
   "metadata": {},
   "source": [
    "# Z-score Normalization"
   ]
  },
  {
   "cell_type": "code",
   "execution_count": 14,
   "metadata": {},
   "outputs": [],
   "source": [
    "def zscore_normalize_features(X):\n",
    "    \"\"\"\n",
    "    computes X, zcore normalized by column\n",
    "    \n",
    "    Args:\n",
    "      X (ndarray (m,n))     : input data, m examples, n features\n",
    "      \n",
    "    Returns:\n",
    "      X_norm (ndarray (m,n)): input normalized by column\n",
    "      mu (ndarray (n,))     : mean of each feature\n",
    "      sigma (ndarray (n,))  : standard deviation of each feature\n",
    "    \"\"\"\n",
    "\n",
    "    mu = np.mean(X, axis=0)\n",
    "    sigma = np.std(X, axis=0)\n",
    "    X_norm = (X - mu) / sigma\n",
    "\n",
    "    return X_norm, mu, sigma"
   ]
  },
  {
   "cell_type": "markdown",
   "metadata": {},
   "source": [
    "# Mean Normalization"
   ]
  },
  {
   "cell_type": "code",
   "execution_count": 20,
   "metadata": {},
   "outputs": [],
   "source": [
    "def mean_normalization(X):\n",
    "    \"\"\"\n",
    "    computes X, mean normalization by column\n",
    "    \n",
    "    Args:\n",
    "      X (ndarray (m,n))     : input data, m examples, n features\n",
    "      \n",
    "    Returns:\n",
    "      X_norm (ndarray (m,n)): input normalized by column\n",
    "      mu (ndarray (n,))     : mean of each feature\n",
    "      max (ndarray (n,))  : max each feature\n",
    "      min (ndarray (n,))  : min each feature\n",
    "    \"\"\"\n",
    "\n",
    "    mu = np.mean(X, axis=0)\n",
    "    max = np.max(X, axis=0)\n",
    "    min = np.min(X, axis=0)\n",
    "    X_norm = (X - mu) / (max - min)\n",
    "\n",
    "    return X_norm, mu, max, min"
   ]
  },
  {
   "cell_type": "markdown",
   "metadata": {},
   "source": [
    "# Feature Scaling"
   ]
  },
  {
   "cell_type": "code",
   "execution_count": 23,
   "metadata": {},
   "outputs": [],
   "source": [
    "def feature_scaling(X):\n",
    "    \"\"\"\n",
    "    computes X, feature scaling by column\n",
    "    \n",
    "    Args:\n",
    "      X (ndarray (m,n))     : input data, m examples, n features\n",
    "      \n",
    "    Returns:\n",
    "      X_norm (ndarray (m,n)): input normalized by column\n",
    "      max (ndarray (n,))  : max each feature\n",
    "      min (ndarray (n,))  : min each feature\n",
    "    \"\"\"\n",
    "\n",
    "    max = np.max(X, axis=0)\n",
    "    min = np.min(X, axis=0)\n",
    "    X_norm = (X - min) / (max - min)\n",
    "\n",
    "    return X_norm, max, min"
   ]
  },
  {
   "cell_type": "code",
   "execution_count": 18,
   "metadata": {},
   "outputs": [
    {
     "data": {
      "text/plain": [
       "(array([[ 1.26311506,  1.33630621, -0.70710678,  1.22474487],\n",
       "        [-0.08073519, -0.26726124,  1.41421356,  0.        ],\n",
       "        [-1.18237987, -1.06904497, -0.70710678, -1.22474487]]),\n",
       " array([1.45733333e+03, 3.33333333e+00, 1.33333333e+00, 4.00000000e+01]),\n",
       " array([5.11961804e+02, 1.24721913e+00, 4.71404521e-01, 4.08248290e+00]))"
      ]
     },
     "execution_count": 18,
     "metadata": {},
     "output_type": "execute_result"
    }
   ],
   "source": [
    "X_norm, mu, sigma = zscore_normalize_features(X_train)\n",
    "X_norm, mu, sigma"
   ]
  },
  {
   "cell_type": "code",
   "execution_count": 19,
   "metadata": {},
   "outputs": [
    {
     "data": {
      "text/plain": [
       "(array([[ 0.51650692,  0.55555556, -0.33333333,  0.5       ],\n",
       "        [-0.03301384, -0.11111111,  0.66666667,  0.        ],\n",
       "        [-0.48349308, -0.44444444, -0.33333333, -0.5       ]]),\n",
       " array([1.45733333e+03, 3.33333333e+00, 1.33333333e+00, 4.00000000e+01]),\n",
       " array([2104,    5,    2,   45]),\n",
       " array([852,   2,   1,  35]))"
      ]
     },
     "execution_count": 19,
     "metadata": {},
     "output_type": "execute_result"
    }
   ],
   "source": [
    "X_norm, mu, max, min = mean_normalization(X_train)\n",
    "X_norm, mu, max, min"
   ]
  },
  {
   "cell_type": "code",
   "execution_count": 22,
   "metadata": {},
   "outputs": [
    {
     "data": {
      "text/plain": [
       "(array([[1.        , 1.        , 0.        , 1.        ],\n",
       "        [0.45047923, 0.33333333, 1.        , 0.5       ],\n",
       "        [0.        , 0.        , 0.        , 0.        ]]),\n",
       " array([2104,    5,    2,   45]),\n",
       " array([852,   2,   1,  35]))"
      ]
     },
     "execution_count": 22,
     "metadata": {},
     "output_type": "execute_result"
    }
   ],
   "source": [
    "X_norm, max, min = feature_scaling(X_train)\n",
    "X_norm, max, min"
   ]
  },
  {
   "cell_type": "code",
   "execution_count": null,
   "metadata": {},
   "outputs": [],
   "source": []
  }
 ],
 "metadata": {
  "kernelspec": {
   "display_name": "Python 3 (ipykernel)",
   "language": "python",
   "name": "python3"
  },
  "language_info": {
   "codemirror_mode": {
    "name": "ipython",
    "version": 3
   },
   "file_extension": ".py",
   "mimetype": "text/x-python",
   "name": "python",
   "nbconvert_exporter": "python",
   "pygments_lexer": "ipython3",
   "version": "3.11.9"
  }
 },
 "nbformat": 4,
 "nbformat_minor": 4
}
