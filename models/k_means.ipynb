{
 "cells": [
  {
   "cell_type": "code",
   "execution_count": null,
   "metadata": {},
   "outputs": [],
   "source": [
    "import numpy as np\n",
    "import matplotlib.pyplot as plt\n",
    "%matplotlib inline"
   ]
  },
  {
   "cell_type": "markdown",
   "metadata": {},
   "source": [
    "# Clustering\n",
    "[PT-BR] Um algoritmo de agrupamento (clustering) analisa vários ponto de dados e encontra automaticamento pontos de dados que são relacionados ou semelhantes entre si\n",
    "\n",
    "### Aplicações\n",
    "- Agrupando notícias similares\n",
    "- Segmentação de mercado\n",
    "- Analisar dados de DNA\n",
    "- Análisar dados astronômicos"
   ]
  },
  {
   "cell_type": "code",
   "execution_count": null,
   "metadata": {},
   "outputs": [],
   "source": [
    "def closest_centroids(X, centroids):\n",
    "\n",
    "    K = centroids.shape[0]\n",
    "\n",
    "    idx = np.zeros(X.shape[0], dtype=int)\n",
    "\n",
    "    for i in range(X.shape[0]):\n",
    "        distance = []\n",
    "        for j in range(centroids.shape[0]):\n",
    "            norm_ij = np.linalg.norm(X[i] - centroids[j])\n",
    "            distance.append(norm_ij)\n",
    "        idx[i] = np.argmin(distance)\n",
    "    \n",
    "    return idx"
   ]
  },
  {
   "cell_type": "code",
   "execution_count": null,
   "metadata": {},
   "outputs": [],
   "source": [
    "centroids = np.array([[3, 3],\n",
    "                      [6, 2],\n",
    "                      [8, 5]])\n",
    "\n",
    "idx = closest_centroids(X, centroids)\n",
    "\n",
    "print(f'First five elements in idx are: {idx[:5]}')"
   ]
  },
  {
   "cell_type": "code",
   "execution_count": 5,
   "metadata": {},
   "outputs": [],
   "source": [
    "def compute_centroids(X, idx, K):\n",
    "\n",
    "    _, n = X.shape\n",
    "\n",
    "    centroids = np.zeros((K, n))\n",
    "    for i in range(K):\n",
    "        points = X[idx == i]\n",
    "        centroids[i] = np.mean(points, axis=0)\n",
    "    return centroids"
   ]
  },
  {
   "cell_type": "code",
   "execution_count": null,
   "metadata": {},
   "outputs": [],
   "source": [
    "k = 3\n",
    "centroids = np.array([[3, 3],\n",
    "                      [6, 2],\n",
    "                      [8, 5]])\n",
    "\n",
    "print(f'The centroids are: {centroids}')"
   ]
  },
  {
   "cell_type": "markdown",
   "metadata": {},
   "source": [
    "## K-means\n",
    "Centros do cluster: centróides\n",
    "\n",
    "Fará um loop de duas coisas diferentes, até o algoritmo convergir:\n",
    "1. Atribuir pontos aos centróides do agrupamento, atribuir cada ponto para o centróide mais próximo\n",
    "    * Adivinhar aonde estão os centros do cluester (centróides), depois disso, ele examinará todos os exemplos ($x_1, ..., x_m$), e para cada um deles, ele verificará de qual centróide está mais próximo.  Sinal que aponta para centróides de clusters\n",
    "2. Mover os centróides do clueter, recalcular os centróides\n",
    "    * Examinar todos os pontos do primeiro centróide e fazer uma média deles, e isso moverá o centróide analisado para qualquer que seja a localização média dos pontos desse centróide, após isso, faremos o mesmo para o segundo cluster, e assim por diante\n",
    "\n",
    "### Algoritmo K-means\n",
    "1. Inicializar aleatoriamente $K$ centróides de clusters ($\\mu_1, \\mu_2, ..., \\mu_K$)\n",
    "    * $\\mu_1, \\mu_2, ..., \\mu_K$, são vetores que têm a mesma dimensão de seus exemplos de treinamento, de  $x_1, ..., x_m$, por exemplo, se $x_m$ tiver 2 features, $\\mu_K$ será um vetor com 2 valores, ou seja, 2 features\n",
    "2. Repeat {</br>\n",
    "    Atribuir pontos aos centróides dos clusters, ou seja, cada ponto vermelho ($\\mu_1$) ou azul ($\\mu_2$), dependendo de qual centróide está mais próximo (Matematicamente, podemos escrever isso como calcular a distância entre $x^{(i)}$ e $\\mu_K$. A distância entre dois pontos geralmente é escrita assim: $min_K = || x^{(i)} - \\mu_K ||^2$ = norma L2, onde queremos encontrar o valor de $K$ que minimiza essa distância, então, o valor de $K$ que minimiza isso, será atribuido ao $c^{(i)}$)</br>\n",
    "    for $i$ in range($m$):</br>\n",
    "        $c^{(i)}$ = index (from 1 to $K$) of cluster centroid closest to $x^{(i)}$</br></br>\n",
    "    Mover os centróides de cada cluster</br>\n",
    "    for $k$ in grande($K$):</br>\n",
    "        $\\mu_k$ = média (média do eixo x, da feature $x_1$ e do eixo y, da feature $x_2$) dos pontos atribuídos a esse cluster $k$</br>\n",
    "}\n",
    "3. Caso um cluster não tiver nenhum exemplo de treinamento atribuído a ele, eliminamos esse cluster, onde acabamos com $K$ - 1 clusters ou caso não pudermos eliminar esse cluster, reinicializamos aleatoriamente esse centróide de cluster e esperar que ele receba pelo menos alguns pontos na próxima vez"
   ]
  },
  {
   "cell_type": "code",
   "execution_count": null,
   "metadata": {},
   "outputs": [],
   "source": [
    "def KMeans(X, centroids, max_iters=10, plot_progress=False):\n",
    "\n",
    "    m, n = X.shape\n",
    "    K = centroids.shape[0]\n",
    "    centroids = centroids\n",
    "    idx = np.zeros(m)\n",
    "    plt.figure(figsize=(8, 6))\n",
    "\n",
    "    for i in range(max_iters):\n",
    "        print(f'K-Means iteration {i}/{max_iters - 1}')\n",
    "        idx = closest_centroids(X, centroids)\n",
    "\n",
    "        centroids = compute_centroids(X, idx, K)\n",
    "    return centroids, idx"
   ]
  },
  {
   "cell_type": "code",
   "execution_count": null,
   "metadata": {},
   "outputs": [],
   "source": [
    "def KMeans_init_centroids(X, K):\n",
    "\n",
    "    randidx = np.random.permutation(X.shape[0])\n",
    "    centroids = X[randidx[:K]]\n",
    "    return centroids"
   ]
  }
 ],
 "metadata": {
  "kernelspec": {
   "display_name": "Python 3",
   "language": "python",
   "name": "python3"
  },
  "language_info": {
   "codemirror_mode": {
    "name": "ipython",
    "version": 3
   },
   "file_extension": ".py",
   "mimetype": "text/x-python",
   "name": "python",
   "nbconvert_exporter": "python",
   "pygments_lexer": "ipython3",
   "version": "3.11.9"
  }
 },
 "nbformat": 4,
 "nbformat_minor": 2
}
