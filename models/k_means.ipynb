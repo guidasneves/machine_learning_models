{
 "cells": [
  {
   "cell_type": "markdown",
   "metadata": {},
   "source": [
    "# K-means\n",
    "**[EN-US]**\n",
    "\n",
    "It will loop two different things, until the algorithm converges:\n",
    "1. Assign points to cluster centroids, assign each point to the closest centroid.\n",
    "    * Guess where the centers of the clusters (centroids) are, after that, it will examine all the examples ($x_1, ..., x_m$), and for each of them, it will check which centroid it is closest to.\n",
    "2. Move cluster centroids, recalculate centroids.\n",
    "    * Examine all the points of the first centroid and average them, and this will move the analyzed centroid to whatever the average location of the points of that centroid is, after that, we will do the same for the second cluster, and so on.\n",
    "\n",
    "**[PT-BR]**\n",
    "\n",
    "Fará um loop de duas coisas diferentes, até o algoritmo convergir:\n",
    "1. Atribuir pontos aos centróides do agrupamento, atribuir cada ponto para o centróide mais próximo.\n",
    "    * Adivinhar aonde estão os centros dos clusters (centróides), depois disso, ele examinará todos os exemplos ($x_1, ..., x_m$), e para cada um deles, ele verificará de qual centróide está mais próximo.\n",
    "2. Mover os centróides do cluster, recalcular os centróides.\n",
    "    * Examinar todos os pontos do primeiro centróide e fazer uma média deles, e isso moverá o centróide analisado para qualquer que seja a localização média dos pontos desse centróide, após isso, faremos o mesmo para o segundo cluster, e assim por diante.\n",
    "\n",
    "## Table of Contents\n",
    "* [Libraries](#Libraries-(Bibliotecas))\n",
    "* [Clustering](#Clustering-(Agrupamento))\n",
    "    * [Applications](#Applications-(Aplicações))\n",
    "    * [Centroids](#Centroids-(Centróides))\n",
    "    * [Computing Centroids Means](#Computing-Centroids-Means-(Calculando-a-Média-dos-Centroides))\n",
    "    * [K-means Algorithm](#K-means-Algorithm-(Algoritmo-K-means))"
   ]
  },
  {
   "cell_type": "markdown",
   "metadata": {},
   "source": [
    "## Libraries (Bibliotecas)"
   ]
  },
  {
   "cell_type": "code",
   "execution_count": null,
   "metadata": {},
   "outputs": [],
   "source": [
    "import numpy as np\n",
    "import matplotlib.pyplot as plt\n",
    "%matplotlib inline"
   ]
  },
  {
   "cell_type": "markdown",
   "metadata": {},
   "source": [
    "## Clustering (Agrupamento)\n",
    "**[EN-US]**\n",
    "\n",
    "A clustering algorithm analyzes multiple data points and automatically finds data points that are related or similar to each other.\n",
    "\n",
    "**[PT-BR]**\n",
    "\n",
    "Um algoritmo de agrupamento (clustering) analisa vários ponto de dados e encontra automaticamento pontos de dados que são relacionados ou semelhantes entre si.\n",
    "\n",
    "## Applications (Aplicações)\n",
    "**[EN-US]**\n",
    "\n",
    "- Grouping similar news\n",
    "- Market segmentation\n",
    "- Analyze DNA data\n",
    "- Analyze astronomical data\n",
    "\n",
    "**[PT-BR]**\n",
    "- Agrupando notícias similares\n",
    "- Segmentação de mercado\n",
    "- Analisar dados de DNA\n",
    "- Análisar dados astronômicos"
   ]
  },
  {
   "cell_type": "markdown",
   "metadata": {},
   "source": [
    "### Centroids (Centróides)\n",
    "$$c^{(i)} := j \\quad \\text{minimize (minimizar): } ||x^{(i)} - \\mu_j||^2$$\n",
    "**[EN-US]**\n",
    "\n",
    "1. Randomly initialize $K$ cluster centroids ($\\mu_1, \\mu_2, ..., \\mu_K$).\n",
    "    * $\\mu_1, \\mu_2, ..., \\mu_K$, are vectors that have the same dimension as your training examples, of $x_1, ..., x_m$, for example, if $x_m$ has 2 features , $\\mu_K$ will be a vector with 2 values, that is, 2 features.\n",
    "2. Assign points to cluster centroids and move cluster centroids.\n",
    "3. In case a cluster does not have any training examples assigned to it, we eliminate that cluster, where we end up with $K$ - 1 clusters or in case we cannot eliminate that cluster, we randomly reset that cluster centroid and wait for it to receive at least some points next time.\n",
    "* $c^{(i)}$ is the index of the centroid that is closest to $x^{(i)}$. \n",
    "* $\\mu_j$ is the position (value) of the $j$’th centroid.\n",
    "\n",
    "**[PT-BR]**\n",
    "1. Inicializar aleatoriamente $K$ centróides de clusters ($\\mu_1, \\mu_2, ..., \\mu_K$).\n",
    "    * $\\mu_1, \\mu_2, ..., \\mu_K$, são vetores que têm a mesma dimensão de seus exemplos de treinamento, de  $x_1, ..., x_m$, por exemplo, se $x_m$ tiver 2 features, $\\mu_K$ será um vetor com 2 valores, ou seja, 2 features.\n",
    "2. Atribuir pontos aos centróides dos clusters e mover os centróides dos clusters.\n",
    "3. Caso um cluster não tiver nenhum exemplo de treinamento atribuído a ele, eliminamos esse cluster, onde acabamos com $K$ - 1 clusters ou caso não pudermos eliminar esse cluster, reinicializamos aleatoriamente esse centróide de cluster e esperar que ele receba pelo menos alguns pontos na próxima vez.\n",
    "* $c^{(i)}$ é o índice do centróide que está mais próximo de $x^{(i)}$.\n",
    "* $\\mu_j$ é a posição (valor) do $j$’ésimo centróide."
   ]
  },
  {
   "cell_type": "code",
   "execution_count": null,
   "metadata": {},
   "outputs": [],
   "source": [
    "def closest_centroids(X, centroids):\n",
    "\n",
    "    K = centroids.shape[0]\n",
    "\n",
    "    idx = np.zeros(X.shape[0], dtype=int)\n",
    "\n",
    "    for i in range(X.shape[0]):\n",
    "        distance = []\n",
    "        for j in range(centroids.shape[0]):\n",
    "            norm_ij = np.linalg.norm(X[i] - centroids[j])\n",
    "            distance.append(norm_ij)\n",
    "        idx[i] = np.argmin(distance)\n",
    "    \n",
    "    return idx"
   ]
  },
  {
   "cell_type": "code",
   "execution_count": null,
   "metadata": {},
   "outputs": [],
   "source": [
    "centroids = np.array([[3, 3],\n",
    "                      [6, 2],\n",
    "                      [8, 5]])\n",
    "\n",
    "idx = closest_centroids(X, centroids)\n",
    "\n",
    "print(f'First five elements in idx are: {idx[:5]}')"
   ]
  },
  {
   "cell_type": "markdown",
   "metadata": {},
   "source": [
    "### Computing Centroids Means (Calculando a Média dos Centroides)\n",
    "$$\\mu_k = \\frac{1}{|C_k|} \\sum_{i\\ \\in\\ C_k} x^{(i)}$$\n",
    "**[EN-US]**\n",
    "\n",
    "* $C_k$ is the set of examples that are assigned to centroid $k$\n",
    "* $|C_k|$ is the number of examples in the set $C_k$\n",
    "\n",
    "**[PT-BR]**\n",
    "\n",
    "* $C_k$ é o conjunto de exemplos atribuídos ao centróide $k$\n",
    "* $|C_k|$ é o número de exemplos no conjunto $C_k$"
   ]
  },
  {
   "cell_type": "code",
   "execution_count": 5,
   "metadata": {},
   "outputs": [],
   "source": [
    "def compute_centroids(X, idx, K):\n",
    "\n",
    "    _, n = X.shape\n",
    "\n",
    "    centroids = np.zeros((K, n))\n",
    "    for i in range(K):\n",
    "        points = X[idx == i]\n",
    "        centroids[i] = np.mean(points, axis=0)\n",
    "    return centroids"
   ]
  },
  {
   "cell_type": "code",
   "execution_count": null,
   "metadata": {},
   "outputs": [],
   "source": [
    "k = 3\n",
    "centroids = np.array([[3, 3],\n",
    "                      [6, 2],\n",
    "                      [8, 5]])\n",
    "\n",
    "print(f'The centroids are: {centroids}')"
   ]
  },
  {
   "cell_type": "markdown",
   "metadata": {},
   "source": [
    "### K-means Algorithm (Algoritmo K-means)"
   ]
  },
  {
   "cell_type": "code",
   "execution_count": null,
   "metadata": {},
   "outputs": [],
   "source": [
    "def KMeans(X, centroids, max_iters=10, plot_progress=False):\n",
    "    m, n = X.shape\n",
    "    K = centroids.shape[0]\n",
    "    centroids = centroids\n",
    "    idx = np.zeros(m)\n",
    "    plt.figure(figsize=(8, 6))\n",
    "\n",
    "    for i in range(max_iters):\n",
    "        print(f'K-Means iteration {i}/{max_iters - 1}')\n",
    "        idx = closest_centroids(X, centroids)\n",
    "\n",
    "        centroids = compute_centroids(X, idx, K)\n",
    "    return centroids, idx"
   ]
  },
  {
   "cell_type": "code",
   "execution_count": null,
   "metadata": {},
   "outputs": [],
   "source": [
    "def KMeans_init_centroids(X, K):\n",
    "    randidx = np.random.permutation(X.shape[0])\n",
    "    centroids = X[randidx[:K]]\n",
    "    return centroids"
   ]
  }
 ],
 "metadata": {
  "kernelspec": {
   "display_name": "Python 3 (ipykernel)",
   "language": "python",
   "name": "python3"
  },
  "language_info": {
   "codemirror_mode": {
    "name": "ipython",
    "version": 3
   },
   "file_extension": ".py",
   "mimetype": "text/x-python",
   "name": "python",
   "nbconvert_exporter": "python",
   "pygments_lexer": "ipython3",
   "version": "3.11.7"
  }
 },
 "nbformat": 4,
 "nbformat_minor": 4
}
